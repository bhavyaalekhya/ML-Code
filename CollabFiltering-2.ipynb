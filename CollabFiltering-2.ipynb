{
 "cells": [
  {
   "cell_type": "code",
   "execution_count": 1,
   "id": "f375a405",
   "metadata": {},
   "outputs": [],
   "source": [
    "import numpy as np\n",
    "import pandas as pd\n",
    "from scipy.sparse import csr_matrix\n",
    "from sklearn.metrics import mean_absolute_error, mean_squared_error"
   ]
  },
  {
   "cell_type": "code",
   "execution_count": 2,
   "id": "753f1bfd",
   "metadata": {},
   "outputs": [],
   "source": [
    "training_file = pd.read_csv('/Users/bhavyaalekhya/Desktop/Courses/Fall_2022/CS6375/Homeworks/HW2/netflix/TrainingRatings.txt',names=['MovieID','UserID','Rating'],header=None)"
   ]
  },
  {
   "cell_type": "code",
   "execution_count": 3,
   "id": "d8024b73",
   "metadata": {},
   "outputs": [],
   "source": [
    "movieids = np.unique(training_file['MovieID'].values)\n",
    "userids = np.unique(training_file['UserID'].values)"
   ]
  },
  {
   "cell_type": "code",
   "execution_count": 4,
   "id": "b9588a51",
   "metadata": {},
   "outputs": [],
   "source": [
    "training_set = pd.DataFrame(columns = movieids,index=userids)"
   ]
  },
  {
   "cell_type": "code",
   "execution_count": 5,
   "id": "2c03f75f",
   "metadata": {},
   "outputs": [],
   "source": [
    "for i in range(len(userids)):\n",
    "    movies = training_file.query(\"UserID=={0}\".format(userids[i])).MovieID.values\n",
    "    ratings = training_file.query(\"UserID=={0}\".format(userids[i])).Rating.values\n",
    "    for j in range(len(movies)):\n",
    "        training_set.iloc[i][movies[j]] = ratings[j]       "
   ]
  },
  {
   "cell_type": "code",
   "execution_count": 75,
   "id": "64792aa8",
   "metadata": {},
   "outputs": [],
   "source": [
    "training_set = training_set.fillna(0) "
   ]
  },
  {
   "cell_type": "code",
   "execution_count": 76,
   "id": "21dbac93",
   "metadata": {},
   "outputs": [],
   "source": [
    "votes_of_users = {}\n",
    "for i in range(len(userids)):\n",
    "    if userids[i] not in votes_of_users.keys():\n",
    "        total_movies = training_set.iloc[[i]].astype(bool).sum(axis=1).values[0]\n",
    "        votes_of_users[userids[i]] = (np.sum(training_set.iloc[[i]].values))/(total_movies)"
   ]
  },
  {
   "cell_type": "code",
   "execution_count": 82,
   "id": "319dd3dc",
   "metadata": {},
   "outputs": [],
   "source": [
    "training_matrix2 = csr_matrix(training_set).toarray()"
   ]
  },
  {
   "cell_type": "code",
   "execution_count": 78,
   "id": "0b715fbf",
   "metadata": {},
   "outputs": [],
   "source": [
    "training_matrix = np.zeros(shape=(len(userids),len(movieids)))"
   ]
  },
  {
   "cell_type": "code",
   "execution_count": 83,
   "id": "b7743e79",
   "metadata": {},
   "outputs": [],
   "source": [
    "for i in range(len(training_matrix)):\n",
    "    \n",
    "    training_matrix[i] = [x - votes_of_users[userids[i]] if x!=0.0 else x for x in training_matrix2[i]]"
   ]
  },
  {
   "cell_type": "code",
   "execution_count": 92,
   "id": "2b5d9aa2",
   "metadata": {},
   "outputs": [],
   "source": [
    "tm = np.cov(training_matrix2)"
   ]
  },
  {
   "cell_type": "code",
   "execution_count": 93,
   "id": "a84f0356",
   "metadata": {},
   "outputs": [],
   "source": [
    "diag = np.diag(tm)"
   ]
  },
  {
   "cell_type": "code",
   "execution_count": 96,
   "id": "69c52936",
   "metadata": {},
   "outputs": [],
   "source": [
    "corrcoef = tm / np.sqrt(diag[:np.newaxis] * diag[np.newaxis : ])"
   ]
  },
  {
   "cell_type": "code",
   "execution_count": 23,
   "id": "8efe7d4a",
   "metadata": {},
   "outputs": [],
   "source": [
    "testing_file = pd.read_csv(\"/Users/bhavyaalekhya/Desktop/Courses/Fall_2022/CS6375/Homeworks/HW2/netflix/TestingRatings.txt\",names=['MovieId','UserID','Rating'],header=None)"
   ]
  },
  {
   "cell_type": "code",
   "execution_count": 24,
   "id": "b7b84a86",
   "metadata": {},
   "outputs": [],
   "source": [
    "y = testing_file[\"Rating\"].values\n",
    "X = testing_file[testing_file.columns[:2]].values"
   ]
  },
  {
   "cell_type": "code",
   "execution_count": 25,
   "id": "3bdc5a9c",
   "metadata": {},
   "outputs": [],
   "source": [
    "y_pred = np.zeros(shape=(len(y)))\n",
    "movie_matrix = training_matrix.T"
   ]
  },
  {
   "cell_type": "code",
   "execution_count": 26,
   "id": "a4514815",
   "metadata": {},
   "outputs": [],
   "source": [
    "movie_matrix1 = pd.DataFrame(movie_matrix,columns=userids,index=movieids)"
   ]
  },
  {
   "cell_type": "code",
   "execution_count": 98,
   "id": "f8ee6c50",
   "metadata": {},
   "outputs": [],
   "source": [
    "def sum_users(a1,j1,v,training_matrix):\n",
    "    ttl = 0 \n",
    "    den = 0\n",
    "    for v1 in v:\n",
    "        if v1!=a1:\n",
    "            if v1>a1:\n",
    "                ttl += corrcoef[a1][v1] * training_matrix[v1][j1]\n",
    "                den += corrcoef[a1][v1]\n",
    "            else:\n",
    "                ttl += corrcoef[v1][a1] * training_matrix[v1][j1]\n",
    "                den += corrcoef[v1][a1]\n",
    "\n",
    "    rem = np.divide(ttl,den,where=den!=0.0)\n",
    "    return rem"
   ]
  },
  {
   "cell_type": "code",
   "execution_count": 99,
   "id": "d2550f1e",
   "metadata": {},
   "outputs": [],
   "source": [
    "for i in range(len(X)):\n",
    "    j = X[i][0]\n",
    "    a = X[i][1]\n",
    "    p_aj = 0\n",
    "    v = np.nonzero(movie_matrix1.loc[j].values)[0]\n",
    "    a1 = np.where(userids==a)[0][0]\n",
    "    j1 = np.where(movieids==j)[0][0]\n",
    "    p_aj = votes_of_users[a] + sum_users(a1,j1,v,training_matrix)\n",
    "    \n",
    "    y_pred[i] = p_aj"
   ]
  },
  {
   "cell_type": "code",
   "execution_count": 100,
   "id": "c4febcf6",
   "metadata": {},
   "outputs": [
    {
     "name": "stdout",
     "output_type": "stream",
     "text": [
      "Root Mean Squared Error: 0.900\n",
      "Mean Absolute Error: 0.707\n"
     ]
    }
   ],
   "source": [
    "#Root Mean Squared Error\n",
    "mse = mean_squared_error(y,y_pred)\n",
    "\n",
    "rmse = np.sqrt(mse)\n",
    "\n",
    "print(\"Root Mean Squared Error: %.3f\"%rmse)\n",
    "\n",
    "#Mean Absolute Error\n",
    "mae = mean_absolute_error(y,y_pred)\n",
    "\n",
    "print(\"Mean Absolute Error: %.3f\"%mae)"
   ]
  },
  {
   "cell_type": "code",
   "execution_count": null,
   "id": "4f688159",
   "metadata": {},
   "outputs": [],
   "source": []
  }
 ],
 "metadata": {
  "kernelspec": {
   "display_name": "Python 3 (ipykernel)",
   "language": "python",
   "name": "python3"
  },
  "language_info": {
   "codemirror_mode": {
    "name": "ipython",
    "version": 3
   },
   "file_extension": ".py",
   "mimetype": "text/x-python",
   "name": "python",
   "nbconvert_exporter": "python",
   "pygments_lexer": "ipython3",
   "version": "3.9.12"
  }
 },
 "nbformat": 4,
 "nbformat_minor": 5
}
